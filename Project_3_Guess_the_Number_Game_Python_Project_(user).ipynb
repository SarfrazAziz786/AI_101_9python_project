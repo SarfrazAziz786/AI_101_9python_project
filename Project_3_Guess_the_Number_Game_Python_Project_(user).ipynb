{
  "nbformat": 4,
  "nbformat_minor": 0,
  "metadata": {
    "colab": {
      "provenance": [],
      "authorship_tag": "ABX9TyP7PrpivyYaoia3J0lEpunG",
      "include_colab_link": true
    },
    "kernelspec": {
      "name": "python3",
      "display_name": "Python 3"
    },
    "language_info": {
      "name": "python"
    }
  },
  "cells": [
    {
      "cell_type": "markdown",
      "metadata": {
        "id": "view-in-github",
        "colab_type": "text"
      },
      "source": [
        "<a href=\"https://colab.research.google.com/github/SarfrazAziz786/Project-4-Assignments-Python/blob/main/Project_3_Guess_the_Number_Game_Python_Project_(user).ipynb\" target=\"_parent\"><img src=\"https://colab.research.google.com/assets/colab-badge.svg\" alt=\"Open In Colab\"/></a>"
      ]
    },
    {
      "cell_type": "markdown",
      "source": [
        "**Project 3: Guess the Number Game Python Project (user)**"
      ],
      "metadata": {
        "id": "8eZTJW0q45-O"
      }
    },
    {
      "cell_type": "code",
      "execution_count": 1,
      "metadata": {
        "colab": {
          "base_uri": "https://localhost:8080/"
        },
        "id": "hjVSvX9u41dS",
        "outputId": "982718f7-9e02-451a-bbbd-472db953f5ad"
      },
      "outputs": [
        {
          "output_type": "stream",
          "name": "stdout",
          "text": [
            "Welcome to the Number Guessing Game!\n",
            "Guess the number between 1 to 10\n",
            "You have 7 attempts left. Enter your Guess Number: 6\n",
            "Too high! Try again.\n",
            "You have 6 attempts left. Enter your Guess Number: 4\n",
            "Too low! Try another number.\n",
            "You have 5 attempts left. Enter your Guess Number: 5\n",
            "🎉 Congratulations! You guessed the number 5 correctly!\n"
          ]
        }
      ],
      "source": [
        "import random\n",
        "\n",
        "print(\"Welcome to the Number Guessing Game!\")\n",
        "print(\"Guess the number between 1 to 10\")\n",
        "\n",
        "number = random.randint(1, 10)\n",
        "guess_left = 7\n",
        "\n",
        "while guess_left > 0:\n",
        "    try:\n",
        "        guess = int(input(f\"You have {guess_left} attempts left. Enter your Guess Number: \"))\n",
        "\n",
        "        if guess < number:\n",
        "            print(\"Too low! Try another number.\")\n",
        "        elif guess > number:\n",
        "            print(\"Too high! Try again.\")\n",
        "        else:\n",
        "            print(f\"🎉 Congratulations! You guessed the number {number} correctly!\")\n",
        "            break\n",
        "\n",
        "        guess_left -= 1\n",
        "\n",
        "        if guess_left == 0:\n",
        "            print(f\"❌ Out of attempts! The correct number was {number}. Better luck next time.\")\n",
        "\n",
        "    except ValueError:\n",
        "        print(\"Invalid input! Please enter a valid number.\")\n"
      ]
    }
  ]
}