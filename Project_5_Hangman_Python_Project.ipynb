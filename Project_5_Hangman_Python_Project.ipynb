{
  "nbformat": 4,
  "nbformat_minor": 0,
  "metadata": {
    "colab": {
      "provenance": [],
      "authorship_tag": "ABX9TyOHjM7sowU84+kX0FE649k5",
      "include_colab_link": true
    },
    "kernelspec": {
      "name": "python3",
      "display_name": "Python 3"
    },
    "language_info": {
      "name": "python"
    }
  },
  "cells": [
    {
      "cell_type": "markdown",
      "metadata": {
        "id": "view-in-github",
        "colab_type": "text"
      },
      "source": [
        "<a href=\"https://colab.research.google.com/github/SarfrazAziz786/Project-4-Assignments-Python/blob/main/Project_5_Hangman_Python_Project.ipynb\" target=\"_parent\"><img src=\"https://colab.research.google.com/assets/colab-badge.svg\" alt=\"Open In Colab\"/></a>"
      ]
    },
    {
      "cell_type": "markdown",
      "source": [
        "**Project 5: Hangman Python Project**"
      ],
      "metadata": {
        "id": "kFPmEnW928Zo"
      }
    },
    {
      "cell_type": "code",
      "source": [
        "import random\n",
        "\n",
        "words = ['enum', 'python' , 'google colab' , 'vscode', 'game']\n",
        "\n",
        "word = random.choice(words)\n",
        "guessed_letters = []\n",
        "attempts = 6\n",
        "\n",
        "print(\"welcome to Hangman Game\")\n",
        "print(\"_\" * len(word))\n",
        "\n",
        "while attempts > 0:\n",
        "  guess = input(\"\\n guess the letter: \").lower()\n",
        "\n",
        "  if len(guess) != 1 or not guess.isalpha(): #isalpha check given string consists entirely of alphabetic characters.\n",
        "    print(\"Please write one alphabet only.\")\n",
        "    continue\n",
        "\n",
        "  if guess in guessed_letters:\n",
        "    print(\"You already guessed that letter.\")\n",
        "    continue\n",
        "\n",
        "  guessed_letters.append(guess)\n",
        "\n",
        "  if guess in word:\n",
        "    print(\"Correct guess!\")\n",
        "  else:\n",
        "    attempts -= 1\n",
        "    print(f\"Wrong guess! , {attempts} attempts. \")\n",
        "\n",
        "\n",
        "  display_word = \" \" .join([letter if letter in guessed_letters else \"_\" for letter in word])\n",
        "\n",
        "  print(display_word)\n",
        "\n",
        "  if \"_\" not in display_word:\n",
        "    print(f\"Congratulations! the correct word is: {word}\")\n",
        "    break\n",
        "else:\n",
        "  print(f\"Game Over! the correct word is {word}\")"
      ],
      "metadata": {
        "colab": {
          "base_uri": "https://localhost:8080/"
        },
        "id": "5_M_ZRaH284p",
        "outputId": "a058e3c9-15ff-4c95-c353-924b50d5a5ac"
      },
      "execution_count": null,
      "outputs": [
        {
          "output_type": "stream",
          "name": "stdout",
          "text": [
            "welcome to Hangman Game\n",
            "____________\n",
            "\n",
            " guess the letter: a\n",
            "Correct guess!\n",
            "_ _ _ _ _ _ _ _ _ _ a _\n",
            "\n",
            " guess the letter: b\n",
            "Correct guess!\n",
            "_ _ _ _ _ _ _ _ _ _ a b\n",
            "\n",
            " guess the letter: g\n",
            "Correct guess!\n",
            "g _ _ g _ _ _ _ _ _ a b\n",
            "\n",
            " guess the letter: o\n",
            "Correct guess!\n",
            "g o o g _ _ _ _ o _ a b\n",
            "\n",
            " guess the letter: l\n",
            "Correct guess!\n",
            "g o o g l _ _ _ o l a b\n",
            "\n",
            " guess the letter: e\n",
            "Correct guess!\n",
            "g o o g l e _ _ o l a b\n",
            "\n",
            " guess the letter: c\n",
            "Correct guess!\n",
            "g o o g l e _ c o l a b\n",
            "\n",
            " guess the letter: l\n",
            "You already guessed that letter.\n",
            "\n",
            " guess the letter:  \n",
            "Please write one alphabet only.\n"
          ]
        }
      ]
    }
  ]
}