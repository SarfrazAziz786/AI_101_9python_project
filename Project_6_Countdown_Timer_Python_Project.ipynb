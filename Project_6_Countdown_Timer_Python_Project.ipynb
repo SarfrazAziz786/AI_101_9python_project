{
  "nbformat": 4,
  "nbformat_minor": 0,
  "metadata": {
    "colab": {
      "provenance": [],
      "authorship_tag": "ABX9TyO3fsDIduX+V3/AoxpGhpA+",
      "include_colab_link": true
    },
    "kernelspec": {
      "name": "python3",
      "display_name": "Python 3"
    },
    "language_info": {
      "name": "python"
    }
  },
  "cells": [
    {
      "cell_type": "markdown",
      "metadata": {
        "id": "view-in-github",
        "colab_type": "text"
      },
      "source": [
        "<a href=\"https://colab.research.google.com/github/SarfrazAziz786/Project-4-Assignments-Python/blob/main/Project_6_Countdown_Timer_Python_Project.ipynb\" target=\"_parent\"><img src=\"https://colab.research.google.com/assets/colab-badge.svg\" alt=\"Open In Colab\"/></a>"
      ]
    },
    {
      "cell_type": "markdown",
      "source": [
        "**Project 6: Countdown Timer Python Project**"
      ],
      "metadata": {
        "id": "96EvTvI72MI-"
      }
    },
    {
      "cell_type": "code",
      "execution_count": 1,
      "metadata": {
        "colab": {
          "base_uri": "https://localhost:8080/"
        },
        "id": "lIPjcFbX2Kc-",
        "outputId": "55e66456-dfa4-4541-97d9-a501a51e9a86"
      },
      "outputs": [
        {
          "output_type": "stream",
          "name": "stdout",
          "text": [
            "Enter the time in seconds for countdown: 5\n",
            "00:05\n",
            "00:04\n",
            "00:03\n",
            "00:02\n",
            "00:01\n",
            "00:00 \n",
            " Time's up!\n"
          ]
        }
      ],
      "source": [
        "import time  # for time delay\n",
        "\n",
        "def countdown_timer(seconds):\n",
        "  while seconds > 0:\n",
        "    mins, secs = divmod(seconds, 60) #The divmod() function takes two numbers as arguments and returns a tuple containing the quotient and remainder\n",
        "\n",
        "\n",
        "\n",
        "\n",
        "    timeformat = '{:02d}:{:02d}'.format(mins, secs) #0: This indicates that the number should be padded with leading zeros if it has fewer digits than specified. 2: This specifies the minimum width of the field (2 digits in this case).\n",
        "    print (timeformat)\n",
        "    print(timeformat, end='\\r') #end='\\r'it moves the cursor to the beginning of the current lin\n",
        "    time.sleep(1) #delay\n",
        "    seconds -= 1\n",
        "\n",
        "  print(\"00:00 \\n Time's up!\")\n",
        "\n",
        "total_seconds= int(input(\"Enter the time in seconds for countdown: \"))\n",
        "countdown_timer(total_seconds)\n"
      ]
    }
  ]
}