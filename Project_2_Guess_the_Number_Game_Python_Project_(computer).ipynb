{
  "nbformat": 4,
  "nbformat_minor": 0,
  "metadata": {
    "colab": {
      "provenance": [],
      "authorship_tag": "ABX9TyNIM3/oyi3IlIez1n0Ug/6g",
      "include_colab_link": true
    },
    "kernelspec": {
      "name": "python3",
      "display_name": "Python 3"
    },
    "language_info": {
      "name": "python"
    }
  },
  "cells": [
    {
      "cell_type": "markdown",
      "metadata": {
        "id": "view-in-github",
        "colab_type": "text"
      },
      "source": [
        "<a href=\"https://colab.research.google.com/github/SarfrazAziz786/Project-4-Assignments-Python/blob/main/Project_2_Guess_the_Number_Game_Python_Project_(computer).ipynb\" target=\"_parent\"><img src=\"https://colab.research.google.com/assets/colab-badge.svg\" alt=\"Open In Colab\"/></a>"
      ]
    },
    {
      "cell_type": "markdown",
      "source": [
        "**Project 2: Guess the Number Game Python Project (computer)**"
      ],
      "metadata": {
        "id": "NDJJpUiE5fQW"
      }
    },
    {
      "cell_type": "code",
      "execution_count": 2,
      "metadata": {
        "colab": {
          "base_uri": "https://localhost:8080/"
        },
        "id": "Nf46H9qt5Zak",
        "outputId": "4e96136c-a50b-41cc-e800-a20d982a9c05"
      },
      "outputs": [
        {
          "output_type": "stream",
          "name": "stdout",
          "text": [
            "Welcome to the Number Guessing Game!\n",
            "I'm thinking of a number between 1 and 5. Can you guess it?\n",
            "You have 7 guesses left.\n",
            " Take a guess of another number. 2\n",
            "Too low number! Try another number.\n",
            "You have 6 guesses left.\n",
            " Take a guess of another number. \n",
            "Invalid input. Please enter a number.\n",
            "You have 6 guesses left.\n",
            " Take a guess of another number. 5\n",
            "Too high! Try again.\n",
            "You have 5 guesses left.\n",
            " Take a guess of another number. 4\n",
            "Congratulations! You guessed the number 4 correctly!\n"
          ]
        }
      ],
      "source": [
        "import random\n",
        "\n",
        "def guess_the_number():\n",
        "  \"\"\" Guess the Number Game by Computer\"\"\"\n",
        "  number = random.randint(1, 5)\n",
        "  guess_left = 7\n",
        "\n",
        "  #welcome msg\n",
        "  print(\"Welcome to the Number Guessing Game!\")\n",
        "  print(\"I'm thinking of a number between 1 and 5. Can you guess it?\")\n",
        "\n",
        "  while guess_left > 0:\n",
        "    print(f\"You have {guess_left} guesses left.\")\n",
        "    try:\n",
        "      guess = int(input(\" Take a guess of another number. \"))\n",
        "    except ValueError:\n",
        "      print(\"Invalid input. Please enter a number.\")\n",
        "      continue\n",
        "\n",
        "    #guess the secret number\n",
        "    if guess < number:\n",
        "      print(\"Too low number! Try another number.\")\n",
        "    elif guess > number:\n",
        "      print(\"Too high! Try again.\")\n",
        "    else:\n",
        "      print(f\"Congratulations! You guessed the number {number} correctly!\")\n",
        "\n",
        "      return\n",
        "\n",
        "    guess_left -= 1\n",
        "\n",
        "  print(f\"Sorry, you've run out of guesses. The number was {number}.\")\n",
        "\n",
        "if __name__ == \"__main__\":\n",
        "  guess_the_number()"
      ]
    }
  ]
}