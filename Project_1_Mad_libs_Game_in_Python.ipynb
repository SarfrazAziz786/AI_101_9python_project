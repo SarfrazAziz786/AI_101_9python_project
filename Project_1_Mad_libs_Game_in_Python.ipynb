{
  "nbformat": 4,
  "nbformat_minor": 0,
  "metadata": {
    "colab": {
      "provenance": [],
      "authorship_tag": "ABX9TyOfBBHYkvVhs+vNzDiGZjix",
      "include_colab_link": true
    },
    "kernelspec": {
      "name": "python3",
      "display_name": "Python 3"
    },
    "language_info": {
      "name": "python"
    }
  },
  "cells": [
    {
      "cell_type": "markdown",
      "metadata": {
        "id": "view-in-github",
        "colab_type": "text"
      },
      "source": [
        "<a href=\"https://colab.research.google.com/github/SarfrazAziz786/Project-4-Assignments-Python/blob/main/Project_1_Mad_libs_Game_in_Python.ipynb\" target=\"_parent\"><img src=\"https://colab.research.google.com/assets/colab-badge.svg\" alt=\"Open In Colab\"/></a>"
      ]
    },
    {
      "cell_type": "markdown",
      "source": [
        "**Project 1: Mad libs Game in Python**"
      ],
      "metadata": {
        "id": "rSqizeYO1DUh"
      }
    },
    {
      "cell_type": "code",
      "execution_count": 1,
      "metadata": {
        "colab": {
          "base_uri": "https://localhost:8080/"
        },
        "id": "Fhu9JAgp0_KU",
        "outputId": "494b44e5-7459-46d5-e712-7a5bd4b70d5d"
      },
      "outputs": [
        {
          "output_type": "stream",
          "name": "stdout",
          "text": [
            "Enter a name: sarfraz\n",
            "Enter a Programing Language(e.g: python , next js , typescript , html): python\n",
            "Enter the mentor name: Sir Arif Rozani\n",
            "Enter a place (e.g., GIAIC , PIAIC, Saylani Mass IT , APMF IT Committee): GIAIC\n",
            "\n",
            "Here is my little story based on mad libs game\n",
            "Once upon a time, there was a brilliant sarfraz.\n",
            "sarfraz was very curious and always wanted to learn new things.\n",
            "One day, sarfraz discovered the world of python at GIAIC.\n",
            "He was fascinated by the power of python and started coding immediately.\n",
            "Luckily, he found a great mentor, Sir Arif Rozani, who guided him on his journey.\n",
            "With Sir Arif Rozani's help, sarfraz became proficient in python and created some amazing projects.\n",
            "And they lived happily ever after!\n"
          ]
        }
      ],
      "source": [
        "#input from users\n",
        "name = input(\"Enter a name: \")\n",
        "programing_language  = input(\"Enter a Programing Language(e.g: python , next js , typescript , html): \")\n",
        "mentor = input(\"Enter the mentor name: \")\n",
        "place = input(\"Enter a place (e.g., GIAIC , PIAIC, Saylani Mass IT , APMF IT Committee): \")\n",
        "\n",
        "\n",
        "#story created\n",
        "print(\"\\nHere is my little story based on mad libs game\")\n",
        "print(f\"Once upon a time, there was a brilliant {name}.\")\n",
        "print(f\"{name} was very curious and always wanted to learn new things.\")\n",
        "print(f\"One day, {name} discovered the world of {programing_language} at {place}.\")\n",
        "print(f\"He was fascinated by the power of {programing_language} and started coding immediately.\")\n",
        "print(f\"Luckily, he found a great mentor, {mentor}, who guided him on his journey.\")\n",
        "print(f\"With {mentor}'s help, {name} became proficient in {programing_language} and created some amazing projects.\")\n",
        "print(f\"And they lived happily ever after!\")\n"
      ]
    }
  ]
}