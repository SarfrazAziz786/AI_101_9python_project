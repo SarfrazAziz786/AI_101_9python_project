{
  "nbformat": 4,
  "nbformat_minor": 0,
  "metadata": {
    "colab": {
      "provenance": [],
      "authorship_tag": "ABX9TyO9KpDzFT+dbPnr5DodQ+2V",
      "include_colab_link": true
    },
    "kernelspec": {
      "name": "python3",
      "display_name": "Python 3"
    },
    "language_info": {
      "name": "python"
    }
  },
  "cells": [
    {
      "cell_type": "markdown",
      "metadata": {
        "id": "view-in-github",
        "colab_type": "text"
      },
      "source": [
        "<a href=\"https://colab.research.google.com/github/SarfrazAziz786/Project-4-Assignments-Python/blob/main/Project_7_Password_Generator_Python_Project.ipynb\" target=\"_parent\"><img src=\"https://colab.research.google.com/assets/colab-badge.svg\" alt=\"Open In Colab\"/></a>"
      ]
    },
    {
      "cell_type": "markdown",
      "source": [
        "**Project 7: Password Generator Python Project**"
      ],
      "metadata": {
        "id": "WpVGi_4Y1hRE"
      }
    },
    {
      "cell_type": "code",
      "execution_count": null,
      "metadata": {
        "id": "D4Uw8EEq1V9N"
      },
      "outputs": [],
      "source": [
        "!pip install streamlit\n",
        "!npm install localtunnel\n",
        "\n",
        "import random\n",
        "import string\n",
        "\n",
        "\n",
        "def generated_password (length=12):\n",
        "  characters = string.ascii_letters + string.digits + string.punctuation\n",
        "  password = ''.join(random.choice(characters) for _ in range(length))\n",
        "  return password\n",
        "\n",
        "#user input\n",
        "while True:\n",
        "  try:\n",
        "    length_input = input(\"Enter the length of your disired password (press Enter for default 12 length): \")\n",
        "    # Check if the input is empty, if so, use default length\n",
        "    length = int(length_input) if length_input else 12\n",
        "    break\n",
        "  except ValueError:\n",
        "    print(\"Invalid input. Please enter a valid number.\")\n",
        "\n",
        "\n",
        "\n",
        "password = generated_password(length)\n",
        "print(\"Your Desired Generated Password: \", password)\n",
        "\n",
        "\n"
      ]
    }
  ]
}