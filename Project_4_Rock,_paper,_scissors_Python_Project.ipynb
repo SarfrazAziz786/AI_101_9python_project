{
  "nbformat": 4,
  "nbformat_minor": 0,
  "metadata": {
    "colab": {
      "provenance": [],
      "authorship_tag": "ABX9TyNhvrAyDJHna401RNpWvBUX",
      "include_colab_link": true
    },
    "kernelspec": {
      "name": "python3",
      "display_name": "Python 3"
    },
    "language_info": {
      "name": "python"
    }
  },
  "cells": [
    {
      "cell_type": "markdown",
      "metadata": {
        "id": "view-in-github",
        "colab_type": "text"
      },
      "source": [
        "<a href=\"https://colab.research.google.com/github/SarfrazAziz786/Project-4-Assignments-Python/blob/main/Project_4_Rock%2C_paper%2C_scissors_Python_Project.ipynb\" target=\"_parent\"><img src=\"https://colab.research.google.com/assets/colab-badge.svg\" alt=\"Open In Colab\"/></a>"
      ]
    },
    {
      "cell_type": "markdown",
      "source": [
        "**Project 4: Rock, paper, scissors Python Project**"
      ],
      "metadata": {
        "id": "-CD51Ybw361p"
      }
    },
    {
      "cell_type": "code",
      "execution_count": 1,
      "metadata": {
        "id": "hTFAx4k933wr",
        "colab": {
          "base_uri": "https://localhost:8080/"
        },
        "outputId": "70f2ab38-76e1-4098-d3ee-e0ec731af9ba"
      },
      "outputs": [
        {
          "name": "stdout",
          "output_type": "stream",
          "text": [
            "Enter rock, paper, or scissor: rock\n",
            "Computer chose: scissor\n",
            "You win!\n",
            "Do you want to play again? (y/n): y\n",
            "Enter rock, paper, or scissor: rock\n",
            "Computer chose: scissor\n",
            "You win!\n",
            "Do you want to play again? (y/n): n\n"
          ]
        }
      ],
      "source": [
        "import random\n",
        "\n",
        "#game choices\n",
        "choices = ['rock', 'paper' , 'scissor' ]\n",
        "\n",
        "\n",
        "while True:\n",
        "    # Player choice\n",
        "    player_choice = input(\"Enter rock, paper, or scissor: \").lower()\n",
        "\n",
        "    # Validate user input\n",
        "    if player_choice not in choices:\n",
        "        print(\"Invalid choice! Please choose rock, paper, or scissor.\")\n",
        "        continue  # Restart loop if input is invalid\n",
        "\n",
        "    # Computer choice\n",
        "    computer_choice = random.choice(choices)\n",
        "    print(f\"Computer chose: {computer_choice}\")\n",
        "\n",
        "\n",
        " #winner decision\n",
        "\n",
        "\n",
        "    if player_choice == computer_choice:\n",
        "      print(f\"It's a tie!. both choice: {player_choice}\")\n",
        "\n",
        "    elif player_choice == 'rock' and computer_choice == 'scissor':\n",
        "        print(f\"You win!\")\n",
        "    elif player_choice == 'paper' and computer_choice == 'rock':\n",
        "        print(f\"You win!\")\n",
        "    elif player_choice == 'scissor' and computer_choice == 'paper':\n",
        "        print(f\"You win!\")\n",
        "    else:\n",
        "      print(f\"You lose!\")\n",
        "\n",
        "    play_again = input(\"Do you want to play again? (y/n): \").lower()\n",
        "    if play_again != 'y':\n",
        "      break\n",
        "\n"
      ]
    }
  ]
}